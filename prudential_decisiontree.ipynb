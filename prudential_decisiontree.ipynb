{
 "cells": [
  {
   "cell_type": "code",
   "execution_count": 10,
   "metadata": {
    "collapsed": false
   },
   "outputs": [
    {
     "name": "stdout",
     "output_type": "stream",
     "text": [
      "145\n",
      "59381\n",
      "59381\n"
     ]
    }
   ],
   "source": [
    "# setup\n",
    "import pandas as pd\n",
    "import numpy as np\n",
    "\n",
    "data = pd.read_csv(open('./kaggledata.csv')) \n",
    "target = data['Response'] \n",
    "del data['Response']\n",
    "\n",
    "print len(data.keys())\n",
    "print len(target)\n",
    "print len(data.index)\n",
    "\n",
    "test = pd.read_csv(open('./testdata.csv')) "
   ]
  },
  {
   "cell_type": "code",
   "execution_count": 11,
   "metadata": {
    "collapsed": false
   },
   "outputs": [
    {
     "name": "stdout",
     "output_type": "stream",
     "text": [
      "147\n",
      "147\n"
     ]
    }
   ],
   "source": [
    "data['Family_Hist_3NN'] =  pd.Series([0 for x in range(len(data.index))])\n",
    "data['Family_Hist_5NN'] =  pd.Series([0 for x in range(len(data.index))])\n",
    "\n",
    "print len(data.keys())\n",
    "\n",
    "test['Family_Hist_3NN'] =  pd.Series([0 for x in range(len(test.index))])\n",
    "test['Family_Hist_5NN'] =  pd.Series([0 for x in range(len(test.index))])\n",
    "\n",
    "print len(test.keys())\n"
   ]
  },
  {
   "cell_type": "code",
   "execution_count": 12,
   "metadata": {
    "collapsed": false
   },
   "outputs": [],
   "source": [
    "#makes new vectors with 1's for non-null values in 3, 5 resp\n",
    "data['Family_Hist_3NN'] =  (-data['Family_Hist_3'].isnull()).astype(np.int)\n",
    "data['Family_Hist_5NN'] =  (-data['Family_Hist_5'].isnull()).astype(np.int)\n",
    "\n",
    "#fills nulls in col 2,3 with 0\n",
    "data['Family_Hist_3'].fillna(0, inplace=True)\n",
    "data['Family_Hist_2'].fillna(0, inplace=True)\n",
    "\n",
    "data['Family_Hist_32C'] = data['Family_Hist_3'] + data['Family_Hist_2']\n",
    "\n",
    "#fills nulls in col 4,5 with 0\n",
    "data['Family_Hist_4'].fillna(0, inplace=True)\n",
    "data['Family_Hist_5'].fillna(0, inplace=True)\n",
    "\n",
    "data['Family_Hist_54C'] = data['Family_Hist_4'] + data['Family_Hist_5']\n",
    "\n",
    "\n",
    "\n",
    "#makes new vectors with 1's for non-null values in 3, 5 resp\n",
    "test['Family_Hist_3NN'] =  (-test['Family_Hist_3'].isnull()).astype(np.int)\n",
    "test['Family_Hist_5NN'] =  (-test['Family_Hist_5'].isnull()).astype(np.int)\n",
    "\n",
    "#fills nulls in col 2,3 with 0\n",
    "test['Family_Hist_3'].fillna(0, inplace=True)\n",
    "test['Family_Hist_2'].fillna(0, inplace=True)\n",
    "\n",
    "test['Family_Hist_32C'] = test['Family_Hist_3'] + test['Family_Hist_2']\n",
    "\n",
    "#fills nulls in col 4,5 with 0\n",
    "test['Family_Hist_4'].fillna(0, inplace=True)\n",
    "test['Family_Hist_5'].fillna(0, inplace=True)\n",
    "\n",
    "test['Family_Hist_54C'] = test['Family_Hist_4'] + test['Family_Hist_5']\n",
    "\n"
   ]
  },
  {
   "cell_type": "code",
   "execution_count": 13,
   "metadata": {
    "collapsed": false
   },
   "outputs": [],
   "source": [
    "#for i in range(5):\n",
    "#    print '2 %d : %f' % (i, data['Family_Hist_2'][i] )\n",
    "del data['Family_Hist_2']\n",
    "del data['Family_Hist_3']\n",
    "del data['Family_Hist_4']\n",
    "del data['Family_Hist_5']\n",
    "\n",
    "\n",
    "#for i in range(5):\n",
    "#    print '2 %d : %f' % (i, data['Family_Hist_2'][i] )\n",
    "del test['Family_Hist_2']\n",
    "del test['Family_Hist_3']\n",
    "del test['Family_Hist_4']\n",
    "del test['Family_Hist_5']\n"
   ]
  },
  {
   "cell_type": "code",
   "execution_count": 14,
   "metadata": {
    "collapsed": false
   },
   "outputs": [],
   "source": [
    "#keep track of what was null before converting nulls to 0 for columns with lots of nulls\n",
    "#makes new vectors with 1's for non-null values \n",
    "data['Employment_Info_6NN'] =  (-data['Employment_Info_6'].isnull()).astype(np.int)\n",
    "data['Insurance_History_5NN'] =  (-data['Insurance_History_5'].isnull()).astype(np.int)\n",
    "data['Medical_History_1NN'] =  (-data['Medical_History_1'].isnull()).astype(np.int)\n",
    "data['Medical_History_10NN'] =  (-data['Medical_History_10'].isnull()).astype(np.int)\n",
    "data['Medical_History_15NN'] =  (-data['Medical_History_15'].isnull()).astype(np.int)\n",
    "data['Medical_History_24NN'] =  (-data['Medical_History_24'].isnull()).astype(np.int)\n",
    "data['Medical_History_32NN'] =  (-data['Medical_History_32'].isnull()).astype(np.int)\n",
    "\n",
    "\n",
    "#keep track of what was null before converting nulls to 0 for columns with lots of nulls\n",
    "#makes new vectors with 1's for non-null values \n",
    "test['Employment_Info_6NN'] =  (-test['Employment_Info_6'].isnull()).astype(np.int)\n",
    "test['Insurance_History_5NN'] =  (-test['Insurance_History_5'].isnull()).astype(np.int)\n",
    "test['Medical_History_1NN'] =  (-test['Medical_History_1'].isnull()).astype(np.int)\n",
    "test['Medical_History_10NN'] =  (-test['Medical_History_10'].isnull()).astype(np.int)\n",
    "test['Medical_History_15NN'] =  (-test['Medical_History_15'].isnull()).astype(np.int)\n",
    "test['Medical_History_24NN'] =  (-test['Medical_History_24'].isnull()).astype(np.int)\n",
    "test['Medical_History_32NN'] =  (-test['Medical_History_32'].isnull()).astype(np.int)\n"
   ]
  },
  {
   "cell_type": "code",
   "execution_count": 15,
   "metadata": {
    "collapsed": true
   },
   "outputs": [],
   "source": [
    "#now can fill in all nulls with zeros\n",
    "data.fillna(0, inplace=True)\n",
    "\n",
    "#now can fill in all nulls with zeros\n",
    "test.fillna(0, inplace=True)\n"
   ]
  },
  {
   "cell_type": "code",
   "execution_count": 16,
   "metadata": {
    "collapsed": false
   },
   "outputs": [
    {
     "name": "stdout",
     "output_type": "stream",
     "text": [
      "(59381, 152)\n",
      "(59381,)\n",
      "(19765, 152)\n",
      "(19765,)\n"
     ]
    }
   ],
   "source": [
    "from sklearn.svm import LinearSVC\n",
    "from sklearn.grid_search import GridSearchCV\n",
    "from sklearn.svm import SVC\n",
    "import numpy as np\n",
    "#from sklearn.ensemble import RandomForestClassifier, AdaBoostClassifier\n",
    "from sklearn.tree import DecisionTreeClassifier\n",
    "\n",
    "\n",
    "X_train = data\n",
    "y_train = target\n",
    "X_test = test\n",
    "\n",
    "print(X_train.shape)\n",
    "print(y_train.shape)\n",
    "print(X_test.shape)\n",
    "\n",
    "ada = DecisionTreeClassifier(max_depth=35)\n",
    "ada.fit(X_train, y_train)\n",
    "y_test = ada.predict(X_test)\n",
    "\n",
    "print(y_test.shape)\n",
    "\n"
   ]
  },
  {
   "cell_type": "code",
   "execution_count": 17,
   "metadata": {
    "collapsed": false
   },
   "outputs": [],
   "source": [
    "#print(y_test)\n",
    "import numpy\n",
    "numpy.savetxt(\"ytest2.csv\", y_test, delimiter=\",\")"
   ]
  },
  {
   "cell_type": "code",
   "execution_count": 18,
   "metadata": {
    "collapsed": false
   },
   "outputs": [
    {
     "name": "stdout",
     "output_type": "stream",
     "text": [
      "(19765, 152)\n",
      "(19765,)\n"
     ]
    }
   ],
   "source": [
    "print(X_test.shape)\n",
    "print(y_test.shape)"
   ]
  },
  {
   "cell_type": "code",
   "execution_count": null,
   "metadata": {
    "collapsed": true
   },
   "outputs": [],
   "source": []
  }
 ],
 "metadata": {
  "kernelspec": {
   "display_name": "Python 2",
   "language": "python",
   "name": "python2"
  },
  "language_info": {
   "codemirror_mode": {
    "name": "ipython",
    "version": 2
   },
   "file_extension": ".py",
   "mimetype": "text/x-python",
   "name": "python",
   "nbconvert_exporter": "python",
   "pygments_lexer": "ipython2",
   "version": "2.7.11"
  }
 },
 "nbformat": 4,
 "nbformat_minor": 0
}
